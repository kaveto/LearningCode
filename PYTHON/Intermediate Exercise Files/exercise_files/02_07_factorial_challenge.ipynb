{
 "cells": [
  {
   "cell_type": "code",
   "execution_count": 14,
   "id": "6da8d8e4-798e-43fb-8f1d-b3855d6b780d",
   "metadata": {},
   "outputs": [
    {
     "name": "stdin",
     "output_type": "stream",
     "text": [
      "number 1.5\n"
     ]
    },
    {
     "name": "stdout",
     "output_type": "stream",
     "text": [
      "Number must be positive int\n"
     ]
    }
   ],
   "source": [
    "import math\n",
    "try:\n",
    "    x=int(input('number'))\n",
    "    #x=5\n",
    "    print(x)\n",
    "    if type(x)==int:\n",
    "        if x>=0:\n",
    "            if x==0:\n",
    "                print('the result is 1')\n",
    "            else:\n",
    "                fact = math.factorial(x)\n",
    "                print('the result is ', fact)\n",
    "        else:\n",
    "            print('Number must be positive int')\n",
    "    else: \n",
    "        print('Number must be positive int')\n",
    "except:\n",
    "    print('Number must be positive int')"
   ]
  },
  {
   "cell_type": "code",
   "execution_count": null,
   "id": "96b4a88d-5454-422a-a173-6bfb73ac775c",
   "metadata": {},
   "outputs": [],
   "source": []
  }
 ],
 "metadata": {
  "kernelspec": {
   "display_name": "Python 3 (ipykernel)",
   "language": "python",
   "name": "python3"
  },
  "language_info": {
   "codemirror_mode": {
    "name": "ipython",
    "version": 3
   },
   "file_extension": ".py",
   "mimetype": "text/x-python",
   "name": "python",
   "nbconvert_exporter": "python",
   "pygments_lexer": "ipython3",
   "version": "3.12.1"
  }
 },
 "nbformat": 4,
 "nbformat_minor": 5
}
