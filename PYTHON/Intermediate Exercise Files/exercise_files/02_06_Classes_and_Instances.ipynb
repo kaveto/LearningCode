{
 "cells": [
  {
   "cell_type": "markdown",
   "id": "7e7cecd6",
   "metadata": {},
   "source": [
    "## Classes"
   ]
  },
  {
   "cell_type": "code",
   "execution_count": 7,
   "id": "d5cde69b",
   "metadata": {},
   "outputs": [],
   "source": [
    "class Dog:\n",
    "    def __init__(self, name):\n",
    "        self.name = name\n",
    "        self.legs = 4\n",
    "    \n",
    "    def speak(self):\n",
    "        print(self.name + ' says: Bark!')\n",
    "        \n"
   ]
  },
  {
   "cell_type": "code",
   "execution_count": 8,
   "id": "5b3dde35",
   "metadata": {},
   "outputs": [],
   "source": [
    "my_dog = Dog('Rover')\n",
    "another_dog = Dog('Fluffy')"
   ]
  },
  {
   "cell_type": "code",
   "execution_count": 10,
   "id": "ceed1af6",
   "metadata": {},
   "outputs": [
    {
     "name": "stdout",
     "output_type": "stream",
     "text": [
      "Rover says: Bark!\n"
     ]
    }
   ],
   "source": [
    "my_dog.speak()"
   ]
  },
  {
   "cell_type": "code",
   "execution_count": 11,
   "id": "b85ea67b",
   "metadata": {},
   "outputs": [
    {
     "name": "stdout",
     "output_type": "stream",
     "text": [
      "Fluffy says: Bark!\n"
     ]
    }
   ],
   "source": [
    "another_dog.speak()"
   ]
  },
  {
   "cell_type": "code",
   "execution_count": 12,
   "id": "5d1838eb",
   "metadata": {},
   "outputs": [
    {
     "data": {
      "text/plain": [
       "__main__.Dog"
      ]
     },
     "execution_count": 12,
     "metadata": {},
     "output_type": "execute_result"
    }
   ],
   "source": [
    "type(Dog('Rover'))"
   ]
  },
  {
   "cell_type": "code",
   "execution_count": 13,
   "id": "cd91da64-06a9-4e3a-92f2-5c24afb6ce13",
   "metadata": {},
   "outputs": [
    {
     "data": {
      "text/plain": [
       "6"
      ]
     },
     "execution_count": 13,
     "metadata": {},
     "output_type": "execute_result"
    }
   ],
   "source": [
    "456 % 10"
   ]
  },
  {
   "cell_type": "code",
   "execution_count": null,
   "id": "3f8f0e5d-0c07-454d-99d3-11071259834b",
   "metadata": {},
   "outputs": [],
   "source": []
  }
 ],
 "metadata": {
  "kernelspec": {
   "display_name": "Python 3 (ipykernel)",
   "language": "python",
   "name": "python3"
  },
  "language_info": {
   "codemirror_mode": {
    "name": "ipython",
    "version": 3
   },
   "file_extension": ".py",
   "mimetype": "text/x-python",
   "name": "python",
   "nbconvert_exporter": "python",
   "pygments_lexer": "ipython3",
   "version": "3.12.1"
  }
 },
 "nbformat": 4,
 "nbformat_minor": 5
}
