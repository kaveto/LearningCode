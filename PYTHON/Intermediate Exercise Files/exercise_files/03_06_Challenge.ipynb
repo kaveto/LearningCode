{
 "cells": [
  {
   "cell_type": "code",
   "execution_count": 18,
   "id": "4762962e-9884-4b35-b31c-060843afd284",
   "metadata": {},
   "outputs": [],
   "source": [
    "hexNumbers = {\n",
    "    '0': 0, '1': 1, '2': 2, '3': 3, '4': 4, '5': 5, '6': 6, '7': 7, '8': 8, '9': 9,\n",
    "    'A': 10, 'B': 11, 'C': 12, 'D': 13, 'E': 14, 'F': 15\n",
    "}\n",
    "def hexToDec(hexNum):\n",
    "    #validate if each caharater of the string is a valid hexadecimal number. \n",
    "    #It means it is in the dictionary\n",
    "    # If hexNum is not a valid hexadecimal number, returns 'invalid Hex number'\n",
    "    try:   \n",
    "        for i in hexNum:\n",
    "            if i not in hexNumbers:\n",
    "                return print('invalid Hex number')\n",
    "            else:\n",
    "                length = len(hexNum)\n",
    "                # Converts a string hexadecimal number into an integer decimal\n",
    "                if length == 3:   \n",
    "                    return hexNumbers[hexNum[0]] * 256 + hexNumbers[hexNum[1]] * 16 +  hexNumbers[hexNum[2]]\n",
    "                if length == 2:  \n",
    "                    return hexNumbers[hexNum[0]] * 16 +  hexNumbers[hexNum[1]]\n",
    "                if length == 1:  \n",
    "                    return  hexNumbers[hexNum[0]]\n",
    "                else:\n",
    "                    return int(hexNum, 16)\n",
    "    except:\n",
    "         return print('invalid Hex number')"
   ]
  },
  {
   "cell_type": "code",
   "execution_count": 3,
   "id": "67adb6b2-7f47-4137-95c6-14fe2547ecf1",
   "metadata": {},
   "outputs": [
    {
     "data": {
      "text/plain": [
       "10"
      ]
     },
     "execution_count": 3,
     "metadata": {},
     "output_type": "execute_result"
    }
   ],
   "source": [
    "hexToDec('A')"
   ]
  },
  {
   "cell_type": "code",
   "execution_count": 4,
   "id": "bac8a28d-1042-4128-953a-7a7a6936d776",
   "metadata": {},
   "outputs": [
    {
     "data": {
      "text/plain": [
       "0"
      ]
     },
     "execution_count": 4,
     "metadata": {},
     "output_type": "execute_result"
    }
   ],
   "source": [
    "hexToDec('0')"
   ]
  },
  {
   "cell_type": "code",
   "execution_count": 5,
   "id": "d7079474-3175-4fdf-90c0-88d76bc8fe6e",
   "metadata": {},
   "outputs": [
    {
     "data": {
      "text/plain": [
       "27"
      ]
     },
     "execution_count": 5,
     "metadata": {},
     "output_type": "execute_result"
    }
   ],
   "source": [
    "hexToDec('1B')"
   ]
  },
  {
   "cell_type": "code",
   "execution_count": 6,
   "id": "f3e7ba9a-a474-4b49-bf00-5a350f258838",
   "metadata": {},
   "outputs": [
    {
     "data": {
      "text/plain": [
       "960"
      ]
     },
     "execution_count": 6,
     "metadata": {},
     "output_type": "execute_result"
    }
   ],
   "source": [
    "hexToDec('3C0')"
   ]
  },
  {
   "cell_type": "code",
   "execution_count": 16,
   "id": "f580b145-9354-4fc3-84b2-582d6c9831e3",
   "metadata": {},
   "outputs": [
    {
     "name": "stdout",
     "output_type": "stream",
     "text": [
      "invalid Hex number\n"
     ]
    }
   ],
   "source": [
    "hexToDec('A6G')"
   ]
  },
  {
   "cell_type": "code",
   "execution_count": 20,
   "id": "b7fe7756-f26b-4af0-8fc3-c8e514c294c4",
   "metadata": {},
   "outputs": [
    {
     "data": {
      "text/plain": [
       "3932160"
      ]
     },
     "execution_count": 20,
     "metadata": {},
     "output_type": "execute_result"
    }
   ],
   "source": [
    "hexToDec('3c0000')"
   ]
  },
  {
   "cell_type": "code",
   "execution_count": null,
   "id": "1102798e-24b5-40c5-8f34-3500d2e3b45a",
   "metadata": {},
   "outputs": [],
   "source": []
  }
 ],
 "metadata": {
  "kernelspec": {
   "display_name": "Python 3 (ipykernel)",
   "language": "python",
   "name": "python3"
  },
  "language_info": {
   "codemirror_mode": {
    "name": "ipython",
    "version": 3
   },
   "file_extension": ".py",
   "mimetype": "text/x-python",
   "name": "python",
   "nbconvert_exporter": "python",
   "pygments_lexer": "ipython3",
   "version": "3.12.1"
  }
 },
 "nbformat": 4,
 "nbformat_minor": 5
}
